{
 "cells": [
  {
   "cell_type": "markdown",
   "metadata": {},
   "source": [
    "## we can Handling exceptions using try ,except method "
   ]
  },
  {
   "cell_type": "code",
   "execution_count": 2,
   "metadata": {},
   "outputs": [
    {
     "name": "stdout",
     "output_type": "stream",
     "text": [
      "please enter Non-Zero Value\n"
     ]
    }
   ],
   "source": [
    "a=10\n",
    "b=0\n",
    "try :\n",
    "    c= a/b\n",
    "    print(c)\n",
    "except :\n",
    "    print('please enter Non-Zero Value')\n",
    "    \n",
    "else :\n",
    "    print('error')"
   ]
  },
  {
   "cell_type": "code",
   "execution_count": 19,
   "metadata": {},
   "outputs": [
    {
     "name": "stdout",
     "output_type": "stream",
     "text": [
      "The Value is : b\n",
      "oops! <class 'ValueError'> Occured\n",
      "Next value\n",
      "The Value is : 0\n",
      "oops! <class 'ZeroDivisionError'> Occured\n",
      "Next value\n",
      "The Value is : 2\n",
      "resiprocal of2is0.5\n"
     ]
    }
   ],
   "source": [
    "import sys\n",
    "l = ['b',0,2]\n",
    "for i in l:\n",
    "    try :\n",
    "        print(\"The Value is :\",i)\n",
    "        k = 1/int(i)\n",
    "        \n",
    "    except :\n",
    "        print(\"oops!\",sys.exc_info()[0],\"Occured\")\n",
    "        print(\"Next value\")\n",
    "print(\"resiprocal of{0}is{1}\".format(i,k))"
   ]
  },
  {
   "cell_type": "code",
   "execution_count": null,
   "metadata": {},
   "outputs": [],
   "source": []
  }
 ],
 "metadata": {
  "kernelspec": {
   "display_name": "Python 3",
   "language": "python",
   "name": "python3"
  },
  "language_info": {
   "codemirror_mode": {
    "name": "ipython",
    "version": 3
   },
   "file_extension": ".py",
   "mimetype": "text/x-python",
   "name": "python",
   "nbconvert_exporter": "python",
   "pygments_lexer": "ipython3",
   "version": "3.8.3"
  }
 },
 "nbformat": 4,
 "nbformat_minor": 4
}
