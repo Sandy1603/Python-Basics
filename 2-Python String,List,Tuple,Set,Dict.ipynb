{
 "cells": [
  {
   "cell_type": "markdown",
   "metadata": {},
   "source": [
    "## Python Data Structures"
   ]
  },
  {
   "cell_type": "markdown",
   "metadata": {},
   "source": [
    "### String"
   ]
  },
  {
   "cell_type": "code",
   "execution_count": 55,
   "metadata": {},
   "outputs": [
    {
     "name": "stdout",
     "output_type": "stream",
     "text": [
      "S\n",
      "p\n"
     ]
    }
   ],
   "source": [
    "# Indexing\n",
    "s= 'Sandeep' \n",
    "# Sandeep --> 0,1,2,3,4,6\n",
    "print(s[0])\n",
    "print(s[-1])"
   ]
  },
  {
   "cell_type": "code",
   "execution_count": 56,
   "metadata": {},
   "outputs": [
    {
     "data": {
      "text/plain": [
       "'nde'"
      ]
     },
     "execution_count": 56,
     "metadata": {},
     "output_type": "execute_result"
    }
   ],
   "source": [
    "#Slicing \n",
    "s[2:5]"
   ]
  },
  {
   "cell_type": "code",
   "execution_count": 57,
   "metadata": {},
   "outputs": [
    {
     "name": "stdout",
     "output_type": "stream",
     "text": [
      "Sandeep\n",
      "Sandeep\n",
      "7\n",
      "False\n",
      "SANDEEP\n",
      "sandeep\n"
     ]
    }
   ],
   "source": [
    "#String Functions\n",
    "# We have lot of String functions we discuss some here\n",
    "print(s.capitalize())\n",
    "print(s.title())\n",
    "print(len(s))\n",
    "print(s.islower())\n",
    "print(s.upper())\n",
    "print(s.lower())"
   ]
  },
  {
   "cell_type": "markdown",
   "metadata": {},
   "source": [
    "### List"
   ]
  },
  {
   "cell_type": "code",
   "execution_count": 58,
   "metadata": {},
   "outputs": [
    {
     "data": {
      "text/plain": [
       "True"
      ]
     },
     "execution_count": 58,
     "metadata": {},
     "output_type": "execute_result"
    }
   ],
   "source": [
    "l = [10,20,True,'a'] \n",
    "#Indexing \n",
    "l[2]"
   ]
  },
  {
   "cell_type": "code",
   "execution_count": 59,
   "metadata": {},
   "outputs": [
    {
     "data": {
      "text/plain": [
       "['a']"
      ]
     },
     "execution_count": 59,
     "metadata": {},
     "output_type": "execute_result"
    }
   ],
   "source": [
    "#Slicing\n",
    "l[3:5]"
   ]
  },
  {
   "cell_type": "code",
   "execution_count": 60,
   "metadata": {},
   "outputs": [
    {
     "name": "stdout",
     "output_type": "stream",
     "text": [
      "4\n",
      "[10, 20, True, 'a', 50]\n",
      "[10, 20, 'a', True, 'a', 50]\n",
      "[10, 20, 'a', True, 'a', 50, 2, 5, 'c', False]\n",
      "[20, 'a', True, 'a', 50, 2, 5, 'c', False]\n",
      "[20, 'a', 'a', 50, 2, 5, 'c', False]\n"
     ]
    }
   ],
   "source": [
    "#List Functions\n",
    "#We have lot of List functions we discuss some here\n",
    "print(len(l))\n",
    "#append\n",
    "l.append(50)\n",
    "print(l)\n",
    "#insert\n",
    "l.insert(2,'a')\n",
    "print(l)\n",
    "#extend\n",
    "l.extend([2,5,'c',False])\n",
    "print(l)\n",
    "\n",
    "#remove(value)\n",
    "l.remove(10)\n",
    "print(l)\n",
    "#pop(index )\n",
    "l.pop(2)\n",
    "print(l)"
   ]
  },
  {
   "cell_type": "markdown",
   "metadata": {},
   "source": [
    "### Tuple"
   ]
  },
  {
   "cell_type": "code",
   "execution_count": 61,
   "metadata": {},
   "outputs": [
    {
     "name": "stdout",
     "output_type": "stream",
     "text": [
      "(10, 20, 30, True)\n"
     ]
    },
    {
     "data": {
      "text/plain": [
       "30"
      ]
     },
     "execution_count": 61,
     "metadata": {},
     "output_type": "execute_result"
    }
   ],
   "source": [
    "# Tuple Functions\n",
    "t= (10,20,30,True)\n",
    "print(t)\n",
    "#Indexing\n",
    "t[2]"
   ]
  },
  {
   "cell_type": "code",
   "execution_count": 62,
   "metadata": {},
   "outputs": [
    {
     "data": {
      "text/plain": [
       "(30,)"
      ]
     },
     "execution_count": 62,
     "metadata": {},
     "output_type": "execute_result"
    }
   ],
   "source": [
    "# Slicing \n",
    "t[2:-1]"
   ]
  },
  {
   "cell_type": "code",
   "execution_count": 63,
   "metadata": {},
   "outputs": [
    {
     "name": "stdout",
     "output_type": "stream",
     "text": [
      "4\n",
      "30\n",
      "True\n"
     ]
    }
   ],
   "source": [
    "#Tuple Functions\n",
    "#We have lot of tuple functions we discuss some here\n",
    "print(len(t))\n",
    "print(max(t))\n",
    "print(min(t)) # True consider as 1 and False consider as 0"
   ]
  },
  {
   "cell_type": "markdown",
   "metadata": {},
   "source": [
    "### Set"
   ]
  },
  {
   "cell_type": "code",
   "execution_count": 64,
   "metadata": {},
   "outputs": [
    {
     "name": "stdout",
     "output_type": "stream",
     "text": [
      "{1, 2, 10, 20}\n"
     ]
    }
   ],
   "source": [
    "St= {1,2,2,True,20,10,20}\n",
    "print(St) # Set will not allow Duplicates and Default sorted order"
   ]
  },
  {
   "cell_type": "code",
   "execution_count": 41,
   "metadata": {},
   "outputs": [
    {
     "name": "stdout",
     "output_type": "stream",
     "text": [
      "{1, 2, 3, 4, 5, 6}\n",
      "{1, 2, 3, 4, 5, 6}\n",
      "{1, 2}\n",
      "{1, 2}\n",
      "{3, 4}\n",
      "{5, 6}\n",
      "{3, 4, 5, 6}\n",
      "{3, 4, 5, 6}\n",
      "{1, 2, 10, 50, 20}\n",
      "{1, 2, 50, 20}\n"
     ]
    }
   ],
   "source": [
    "# Set Functions \n",
    "#We have lot of tuple functions we discuss some here\n",
    "s1= {1,2,3,4}\n",
    "s2={1,2,5,6}\n",
    "#Union\n",
    "print(s1|s2)\n",
    "print(s2|s1) # Both are Same\n",
    "#Intersection\n",
    "print(s1&s2)\n",
    "print(s2&s1)# Both are Same\n",
    "#Difference\n",
    "print(s1-s2)\n",
    "print(s2-s1)\n",
    "# Symmetric Difference\n",
    "print(s1^s2)\n",
    "print(s2^s1) # Both are Same\n",
    "\n",
    "# add\n",
    "St.add(50)\n",
    "print(St)\n",
    "#Remove\n",
    "St.remove(10)\n",
    "print(St)"
   ]
  },
  {
   "cell_type": "markdown",
   "metadata": {},
   "source": [
    "### Dict"
   ]
  },
  {
   "cell_type": "code",
   "execution_count": 65,
   "metadata": {},
   "outputs": [
    {
     "data": {
      "text/plain": [
       "'A'"
      ]
     },
     "execution_count": 65,
     "metadata": {},
     "output_type": "execute_result"
    }
   ],
   "source": [
    "#Create a dictionary\n",
    "\n",
    "D={1: \"A\", 2:\"B\",3:\"C\"} # Key: Value \n",
    "D[1]"
   ]
  },
  {
   "cell_type": "code",
   "execution_count": 66,
   "metadata": {},
   "outputs": [
    {
     "name": "stdout",
     "output_type": "stream",
     "text": [
      "1\n",
      "2\n",
      "3\n"
     ]
    }
   ],
   "source": [
    "# We can even loop throught the dictionaries keys\n",
    "\n",
    "for x in D:\n",
    "    print(x)"
   ]
  },
  {
   "cell_type": "code",
   "execution_count": 67,
   "metadata": {},
   "outputs": [
    {
     "name": "stdout",
     "output_type": "stream",
     "text": [
      "A\n",
      "B\n",
      "C\n"
     ]
    }
   ],
   "source": [
    "# We can even loop throught the dictionaries values\n",
    "\n",
    "for x in D.values():\n",
    "    print(x)"
   ]
  },
  {
   "cell_type": "code",
   "execution_count": 68,
   "metadata": {},
   "outputs": [
    {
     "name": "stdout",
     "output_type": "stream",
     "text": [
      "(1, 'A')\n",
      "(2, 'B')\n",
      "(3, 'C')\n"
     ]
    }
   ],
   "source": [
    "# We can even loop throught the dictionaries values\n",
    "\n",
    "for x in D.items():\n",
    "    print(x)"
   ]
  },
  {
   "cell_type": "code",
   "execution_count": 69,
   "metadata": {},
   "outputs": [
    {
     "name": "stdout",
     "output_type": "stream",
     "text": [
      "{1: 'A', 2: 'B', 3: 'C', 4: 'D'}\n",
      "{1: 'A', 3: 'C', 4: 'D'}\n"
     ]
    }
   ],
   "source": [
    "#Adding \n",
    "\n",
    "D[4]='D'\n",
    "print(D)\n",
    "# Removing\n",
    "D.pop(2)\n",
    "print(D)\n"
   ]
  },
  {
   "cell_type": "code",
   "execution_count": null,
   "metadata": {},
   "outputs": [],
   "source": []
  }
 ],
 "metadata": {
  "kernelspec": {
   "display_name": "Python 3",
   "language": "python",
   "name": "python3"
  },
  "language_info": {
   "codemirror_mode": {
    "name": "ipython",
    "version": 3
   },
   "file_extension": ".py",
   "mimetype": "text/x-python",
   "name": "python",
   "nbconvert_exporter": "python",
   "pygments_lexer": "ipython3",
   "version": "3.8.3"
  }
 },
 "nbformat": 4,
 "nbformat_minor": 4
}
